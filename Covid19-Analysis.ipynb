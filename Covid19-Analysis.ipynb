{
 "cells": [
  {
   "cell_type": "code",
   "execution_count": null,
   "id": "3b647ef9",
   "metadata": {},
   "outputs": [],
   "source": [
    "pip install folium --quiet"
   ]
  },
  {
   "cell_type": "code",
   "execution_count": null,
   "id": "b12b9a36",
   "metadata": {},
   "outputs": [],
   "source": [
    "pip install plotly --quiet"
   ]
  },
  {
   "cell_type": "code",
   "execution_count": null,
   "id": "0a1c404d",
   "metadata": {},
   "outputs": [],
   "source": [
    "pip install pandas --quiet "
   ]
  },
  {
   "cell_type": "code",
   "execution_count": null,
   "id": "dbd4e5c4",
   "metadata": {},
   "outputs": [],
   "source": [
    "#Importing relevant modules \n",
    "\n",
    "#with plotly library, only a few lines of codes are necessary \n",
    "#to create aesthetically pleasing, interactive plots. \n",
    "import plotly.express as px\n",
    "import plotly.graph_objects as go\n",
    "import plotly.figure_factory as ff\n",
    "from plotly.subplots import make_subplots\n",
    "#Folium is a Python library used for visualizing geospatial data. \n",
    "#It is easy to use and yet a powerful library. Folium is a Python wrapper for Leaflet. js \n",
    "#which is a leading open-source JavaScript library for plotting interactive maps.\n",
    "import folium\n",
    "\n",
    "\n",
    "import pandas as pd\n",
    "import numpy as np\n",
    "import matplotlib.pyplot as plt\n",
    "\n",
    "%matplotlib inline\n",
    "\n",
    "import math\n",
    "import random\n",
    "#timedelta submodule generally used for calculating differences \n",
    "#in dates and also can be used for date manipulations in Python.\n",
    "#It also provides us with custom dates.\n",
    "from datetime import timedelta\n",
    "\n",
    "import warnings\n",
    "#This ignores warnings issued by the compiler\n",
    "warnings.filterwarnings('ignore') \n",
    "\n",
    "#color templates/palletes to be used later in the code\n",
    "cnf = \"#393e46\"\n",
    "dth = \"#ff2e63\"\n",
    "rec = \"#21bf73\"\n",
    "act = \"#fe9801\""
   ]
  },
  {
   "cell_type": "code",
   "execution_count": null,
   "id": "7affd095",
   "metadata": {},
   "outputs": [],
   "source": [
    "import plotly as py\n",
    "#Below code allows plotly to work in offline mode as well\n",
    "py.offline.init_notebook_mode(connected = True)"
   ]
  },
  {
   "cell_type": "code",
   "execution_count": null,
   "id": "e26ddb76",
   "metadata": {},
   "outputs": [],
   "source": [
    "import os"
   ]
  },
  {
   "cell_type": "code",
   "execution_count": null,
   "id": "f758667e",
   "metadata": {},
   "outputs": [],
   "source": [
    "try:\n",
    "    os.system(\"rm -rf Covid-19-Preprocessed-Dataset\")\n",
    "except:\n",
    "    print(\"No such directory exists\")"
   ]
  },
  {
   "cell_type": "code",
   "execution_count": null,
   "id": "079547a1",
   "metadata": {},
   "outputs": [],
   "source": [
    "!git clone https://github.com/laxmimerit/Covid-19-Preprocessed-Dataset.git"
   ]
  },
  {
   "cell_type": "code",
   "execution_count": null,
   "id": "a7e830fd",
   "metadata": {},
   "outputs": [],
   "source": [
    "df = pd.read_csv('Covid-19-Preprocessed-Dataset/preprocessed/covid_19_data_cleaned.csv', parse_dates = ['Date'])\n",
    "countrywise = pd.read_csv('Covid-19-Preprocessed-Dataset/preprocessed/countrywise.csv')\n",
    "country_daywise = pd.read_csv('Covid-19-Preprocessed-Dataset/preprocessed/country_daywise.csv', parse_dates = ['Date'])\n",
    "daywise = pd.read_csv('Covid-19-Preprocessed-Dataset/preprocessed/daywise.csv', parse_dates = ['Date'])"
   ]
  },
  {
   "cell_type": "code",
   "execution_count": null,
   "id": "fa403a83",
   "metadata": {},
   "outputs": [],
   "source": [
    "df['Province/State'] = df['Province/State'].fillna(\"\")\n",
    "df.head()"
   ]
  },
  {
   "cell_type": "code",
   "execution_count": null,
   "id": "793cba8a",
   "metadata": {},
   "outputs": [],
   "source": [
    "confirmed = df.groupby('Date').sum()['Confirmed'].reset_index()\n",
    "recovered = df.groupby('Date').sum()['Recovered'].reset_index()\n",
    "deaths = df.groupby('Date').sum()['Deaths'].reset_index()\n",
    "deaths"
   ]
  },
  {
   "cell_type": "code",
   "execution_count": null,
   "id": "6d814575",
   "metadata": {},
   "outputs": [],
   "source": []
  },
  {
   "cell_type": "code",
   "execution_count": null,
   "id": "6597ba74",
   "metadata": {},
   "outputs": [],
   "source": [
    "df.isnull().sum()"
   ]
  },
  {
   "cell_type": "code",
   "execution_count": null,
   "id": "3746c368",
   "metadata": {},
   "outputs": [],
   "source": [
    "df.info()"
   ]
  },
  {
   "cell_type": "code",
   "execution_count": null,
   "id": "bebfa865",
   "metadata": {},
   "outputs": [],
   "source": [
    "df.query('20211201 < Date < 20220301' and 'Country == \"Azerbaijan\"')"
   ]
  },
  {
   "cell_type": "markdown",
   "id": "9573dba2",
   "metadata": {},
   "source": [
    "# Total Confirmed, Recovered Cases and Deaths Worldwide"
   ]
  },
  {
   "cell_type": "code",
   "execution_count": null,
   "id": "0808448f",
   "metadata": {},
   "outputs": [],
   "source": [
    "confirmed.tail()"
   ]
  },
  {
   "cell_type": "code",
   "execution_count": null,
   "id": "0aa27ae3",
   "metadata": {},
   "outputs": [],
   "source": [
    "recovered.tail()"
   ]
  },
  {
   "cell_type": "code",
   "execution_count": null,
   "id": "c662526b",
   "metadata": {},
   "outputs": [],
   "source": [
    "deaths.tail()"
   ]
  },
  {
   "cell_type": "code",
   "execution_count": null,
   "id": "408fbbcc",
   "metadata": {},
   "outputs": [],
   "source": [
    "#Creates a 2D canvas upon which confirmed, recovered cases and \n",
    "#deaths will be plotted\n",
    "\n",
    "fig = go.Figure()\n",
    "\n",
    "#adding plots to the canvas(displayed below are first 100 rows of the DataFrame)\n",
    "fig.add_trace(go.Scatter(x = confirmed['Date'].head(100), y = confirmed['Confirmed'].head(100), mode = 'lines+markers', name = 'Confirmed Cases', line = dict(color = \"Orange\", width = 1)))\n",
    "fig.add_trace(go.Scatter(x = recovered['Date'].head(100), y = recovered['Recovered'].head(100), mode = 'lines+markers', name = 'Recovered Cases', line = dict(color = \"Green\", width = 1)))\n",
    "fig.add_trace(go.Scatter(x = deaths['Date'].head(100), y = deaths['Deaths'].head(100), mode = 'lines+markers', name = 'Deaths', line = dict(color = \"Red\", width = 1)))\n",
    "fig.update_layout(title = 'Global Covid-19 Data', xaxis = dict(title = 'Date', titlefont_size = 15, tickfont_size = 15), yaxis = dict(title = 'Number of Cases', titlefont_size = 15))\n",
    "fig.show()"
   ]
  },
  {
   "cell_type": "code",
   "execution_count": null,
   "id": "eefeaf64",
   "metadata": {},
   "outputs": [],
   "source": []
  },
  {
   "cell_type": "markdown",
   "id": "2041a7a2",
   "metadata": {},
   "source": [
    "# COVID-19 Case Density Plot On World Map"
   ]
  },
  {
   "cell_type": "code",
   "execution_count": null,
   "id": "59c8d268",
   "metadata": {},
   "outputs": [],
   "source": [
    "df['Date'] = df['Date'].astype(str)\n",
    "df.info()"
   ]
  },
  {
   "cell_type": "code",
   "execution_count": null,
   "id": "4b0c45f6",
   "metadata": {},
   "outputs": [],
   "source": [
    "#The code below produces a heat map of covid cases by state / province accross various countries\n",
    "\n",
    "\n",
    "fig = px.density_mapbox(df, lat = 'Lat', lon = 'Long', hover_name = 'Country', hover_data = ['Confirmed', 'Recovered', 'Deaths'], animation_frame = 'Date', color_continuous_scale = 'Portland', radius = 7, zoom = 0, height = 700)\n",
    "fig.update_layout(title = \"Worldwide COVID-19 Cases Against Dates\")\n",
    "fig.update_layout(mapbox_style = 'open-street-map', mapbox_center_lon = 0)\n",
    "\n",
    "fig.show()"
   ]
  },
  {
   "cell_type": "code",
   "execution_count": null,
   "id": "8ed5bd76",
   "metadata": {},
   "outputs": [],
   "source": []
  },
  {
   "cell_type": "markdown",
   "id": "04fc3515",
   "metadata": {},
   "source": [
    "# COVID-19 Cases Over Time With Area Plot"
   ]
  },
  {
   "cell_type": "code",
   "execution_count": null,
   "id": "2e1fd554",
   "metadata": {},
   "outputs": [],
   "source": [
    "#Representing data for only the first 100 entries for clarity of the plot\n",
    "cases = df.groupby('Date')['Confirmed', 'Recovered', 'Deaths', 'Active'].sum().reset_index().head(100)\n",
    "cases = cases[cases['Date'] == max(cases['Date'])].reset_index(drop = True)\n",
    "#Plotting the active, recovered and death cases on a melt plot, \n",
    "#here each subrectangle (with a different color) represents one variable, and their relative width is based on their value.\n",
    "cs = cases.melt(id_vars = 'Date', value_vars = ['Active', 'Recovered', 'Deaths'])\n",
    "\n",
    "fig = px.treemap(cs, path = ['variable'], values = 'value', height = 250, width = 800, color_discrete_sequence = [act, rec, dth])\n",
    "fig.data[0].textinfo = 'label+text+value'\n",
    "\n",
    "fig.show()"
   ]
  },
  {
   "cell_type": "code",
   "execution_count": null,
   "id": "73169fab",
   "metadata": {},
   "outputs": [],
   "source": [
    "#Area plot representing active, recovered and death cases (showing only first 100 entries to fit to plot)\n",
    "cases = df.groupby('Date')['Active', 'Recovered', 'Deaths'].sum().reset_index().head(100)\n",
    "cases = cases.melt(id_vars = 'Date', value_vars = ['Active', 'Recovered', 'Deaths'], var_name = 'Case', value_name = 'Count')\n",
    "\n",
    "fig = px.area(cases, x = 'Date', y = 'Count', color = 'Case', height = 600, title = 'Cases over time', color_discrete_sequence = [act, rec, dth])\n",
    "fig.update_layout(xaxis_rangeslider_visible = True)\n",
    "fig.show()"
   ]
  },
  {
   "cell_type": "markdown",
   "id": "42f941f3",
   "metadata": {},
   "source": [
    "# Folium Maps"
   ]
  },
  {
   "cell_type": "code",
   "execution_count": null,
   "id": "2782c898",
   "metadata": {},
   "outputs": [],
   "source": [
    "#Encircling locations on a world map for latest covid cases. Information \n",
    "#displayed about Confirmed, recovered and death cases\n",
    "cases = df[df['Date'] == max(df['Date'])]\n",
    "cases\n",
    "\n",
    "area_map = folium.Map(location = [0, 0], tiles = 'cartodbpositron', min_zoom = 1, max_zoom = 4, zoom_start = 1)\n",
    "for i in range(0, len(cases)):\n",
    "    folium.Circle(location = [cases.iloc[i]['Lat'], cases.iloc[i]['Long']], color = 'red', fill = 'red',\n",
    "                  tooltip = ('<l1><bold> Country: ' + str(cases.iloc[i]['Country']) + \n",
    "                            '<l1><bold> Province/State: ' + str(cases.iloc[i]['Province/State']) + \n",
    "                            '<l1><bold> Confirmed Cases: ' + str(cases.iloc[i]['Confirmed']) + \n",
    "                            '<l1><bold> Recovered Cases: ' + str(cases.iloc[i]['Recovered']) +\n",
    "                            '<l1><bold> Deaths: ' + str(cases.iloc[i]['Deaths'])),\n",
    "                  radius = int(cases.iloc[i]['Confirmed'])**0.5).add_to(area_map)\n",
    "area_map"
   ]
  },
  {
   "cell_type": "code",
   "execution_count": null,
   "id": "d4c9a5ea",
   "metadata": {},
   "outputs": [],
   "source": []
  },
  {
   "cell_type": "markdown",
   "id": "a1b01d6f",
   "metadata": {},
   "source": [
    "# Confirmed Cases Analysis with Choropleth Maps"
   ]
  },
  {
   "cell_type": "code",
   "execution_count": null,
   "id": "26e90493",
   "metadata": {},
   "outputs": [],
   "source": [
    "#Choropleth maps are thematic maps in which areas are sided in proportion\n",
    "#of the confirmed cases. More confirmed cases are indicated by a darker color\n",
    "#and lighter colors for less cases.\n",
    "\n",
    "#using plotly express to design the map"
   ]
  },
  {
   "cell_type": "code",
   "execution_count": null,
   "id": "d3efd86a",
   "metadata": {},
   "outputs": [],
   "source": [
    "#Countries with darker colors (near black) have lowest confirmed cases and countries\n",
    "# near the yellow color have the highest confirmed cases. These colors change \n",
    "#over time as confirmed cases values changes over the following dates.\n",
    "\n",
    "#color changes are a logarthmic function of the total confirmed cases in a particular country\n",
    "\n",
    "fig = px.choropleth(country_daywise, locations = 'Country', locationmode = 'country names', color = np.log(country_daywise['Confirmed']),\n",
    "                    hover_name = 'Country', animation_frame = country_daywise['Date'].dt.strftime('%Y-%m-%d'),\n",
    "                    title = 'Cases over time', color_continuous_scale = px.colors.sequential.Inferno)\n",
    "fig.update(layout_coloraxis_showscale = True)\n",
    "fig.show()"
   ]
  },
  {
   "cell_type": "markdown",
   "id": "a088ce5e",
   "metadata": {},
   "source": [
    "# Analysis of Deaths and Recoveries per 100 Cases"
   ]
  },
  {
   "cell_type": "code",
   "execution_count": null,
   "id": "6a755848",
   "metadata": {},
   "outputs": [],
   "source": [
    "#Analysis of confirmed and death cases using bar plots\n",
    "\n",
    "fig_conf = px.bar(daywise, x = 'Date', y = 'Confirmed', color_discrete_sequence = [act])\n",
    "fig_dth = px.bar(daywise, x = 'Date', y = 'Deaths', color_discrete_sequence = [dth])\n",
    "\n",
    "fig = make_subplots(rows = 1, cols = 2, shared_xaxes = False, horizontal_spacing = 0.1, \n",
    "                    subplot_titles = ['Confirmed Cases', 'Death Cases'])\n",
    "\n",
    "fig.add_trace(fig_conf['data'][0], row = 1, col = 1)\n",
    "fig.add_trace(fig_dth['data'][0], row = 1, col = 2)\n",
    "fig.update_traces(dict(marker_line_width = 0))\n",
    "\n",
    "fig.update_layout(height = 350)\n",
    "\n",
    "fig.show()"
   ]
  },
  {
   "cell_type": "markdown",
   "id": "3aaa54a5",
   "metadata": {},
   "source": [
    "# Confirmed and Death Cases using Static Colormap"
   ]
  },
  {
   "cell_type": "code",
   "execution_count": null,
   "id": "163957cb",
   "metadata": {},
   "outputs": [],
   "source": [
    "fig_conf = px.choropleth(countrywise, locations = 'Country', locationmode = 'country names',\n",
    "                         color = np.log(countrywise['Confirmed']), hover_name = 'Country',\n",
    "                         hover_data = ['Confirmed'])\n",
    "\n",
    "temp = countrywise[countrywise['Deaths'] > 0]\n",
    "fig_dth = px.choropleth(temp, locations = 'Country', locationmode = 'country names',\n",
    "                         color = np.log(temp['Deaths']), hover_name = 'Country',\n",
    "                         hover_data = ['Deaths'])\n",
    "\n",
    "fig = make_subplots(rows = 1, cols = 2, subplot_titles = ['Confirmed', 'Deaths'],\n",
    "                   specs = [[{'type' : 'choropleth'}, {'type' : 'choropleth'}]])\n",
    "\n",
    "fig.add_trace(fig_conf['data'][0], row = 1, col = 1)\n",
    "fig.add_trace(fig_dth['data'][0], row = 1, col = 2)\n",
    "\n",
    "fig.update(layout_coloraxis_showscale = False)\n",
    "\n",
    "fig.show()"
   ]
  },
  {
   "cell_type": "markdown",
   "id": "1908e868",
   "metadata": {},
   "source": [
    "# Deaths and Recoveries per 100 Cases"
   ]
  },
  {
   "cell_type": "code",
   "execution_count": null,
   "id": "8e20684d",
   "metadata": {},
   "outputs": [],
   "source": [
    "#Analysis of deaths per 100 cases, recoveries per 100 cases and\n",
    "#deaths per 100 recoveries using line graphs\n",
    "fig1 = px.line(daywise, x = 'Date', y = 'Deaths / 100 Cases', color_discrete_sequence=[dth])\n",
    "fig2 = px.line(daywise, x = 'Date', y = 'Recovered / 100 Cases', color_discrete_sequence=[rec])\n",
    "fig3 = px.line(daywise, x = 'Date', y = 'Deaths / 100 Recovered', color_discrete_sequence=[cnf])\n",
    "\n",
    "fig = make_subplots(rows = 1, cols = 3, shared_xaxes = False,\n",
    "                   subplot_titles = ('Deaths / 100 cases', 'Recoveries / 100 Cases', 'Deaths / 100 Recoveries'))\n",
    "\n",
    "fig.add_trace(fig1['data'][0], row = 1, col = 1)\n",
    "fig.add_trace(fig2['data'][0], row = 1, col = 2)\n",
    "fig.add_trace(fig3['data'][0], row = 1, col = 3)\n",
    "\n",
    "fig.update_layout(height = 400)\n",
    "\n",
    "fig.show()"
   ]
  },
  {
   "cell_type": "markdown",
   "id": "dcced737",
   "metadata": {},
   "source": [
    "# New Cases Per Day and No. Of Countries Affected"
   ]
  },
  {
   "cell_type": "code",
   "execution_count": null,
   "id": "daaebe3c",
   "metadata": {},
   "outputs": [],
   "source": [
    "fig_con = px.bar(daywise, x = 'Date', y = 'New Cases', color_discrete_sequence = [cnf])\n",
    "fig_dth = px.bar(daywise, x = 'Date', y = 'No. of Countries', color_discrete_sequence = [dth])\n",
    "\n",
    "fig = make_subplots(rows = 1, cols = 2, shared_xaxes = False, horizontal_spacing = 0.1,\n",
    "                   subplot_titles = ('No. of New Cases per day', 'No. of Countries'))\n",
    "\n",
    "fig.add_trace(fig_con['data'][0], row = 1, col = 1)\n",
    "fig.add_trace(fig_dth['data'][0], row = 1, col = 2)\n",
    "fig.update_traces(dict(marker_line_width = 0))\n",
    "\n",
    "fig.show()\n"
   ]
  },
  {
   "cell_type": "markdown",
   "id": "462b5d5c",
   "metadata": {},
   "source": [
    "# Top 20 Countries Cases Analysis"
   ]
  },
  {
   "cell_type": "code",
   "execution_count": null,
   "id": "b6a4842a",
   "metadata": {},
   "outputs": [],
   "source": [
    "top = 20\n",
    "fig_con = px.bar(countrywise.sort_values('Confirmed').tail(top), x = 'Confirmed', y = 'Country',\n",
    "                text = 'Confirmed', orientation = 'h', color_discrete_sequence = [cnf])\n",
    "fig_dth = px.bar(countrywise.sort_values('Deaths').tail(top), x = 'Deaths', y = 'Country',\n",
    "                text = 'Deaths', orientation = 'h', color_discrete_sequence = [dth])\n",
    "\n",
    "fig_act = px.bar(countrywise.sort_values('Active').tail(top), x = 'Confirmed', y = 'Country',\n",
    "                text = 'Active', orientation = 'h', color_discrete_sequence = [act])\n",
    "fig_rec = px.bar(countrywise.sort_values('Recovered').tail(top), x = 'Deaths', y = 'Country',\n",
    "                text = 'Recovered', orientation = 'h', color_discrete_sequence = [rec])\n",
    "\n",
    "fig_dthc = px.bar(countrywise.sort_values('Deaths / 100 Cases').tail(top), x = 'Deaths / 100 Cases', y = 'Country',\n",
    "                text = 'Deaths / 100 Cases', orientation = 'h', color_discrete_sequence = ['#f78345'])\n",
    "fig_nc = px.bar(countrywise.sort_values('New Cases').tail(top), x = 'New Cases', y = 'Country',\n",
    "                text = 'New Cases', orientation = 'h', color_discrete_sequence = ['#e82734'])\n",
    "\n",
    "fig_cpm = px.bar(countrywise.sort_values('Cases / Million People').tail(top), x = 'Cases / Million People', y = 'Country',\n",
    "                text = 'Cases / Million People', orientation = 'h', color_discrete_sequence = ['#b38472'])\n",
    "fig_clw = px.bar(countrywise.sort_values('Confirmed last week').tail(top), x = 'Confirmed last week', y = 'Country',\n",
    "                text = 'Confirmed last week', orientation = 'h', color_discrete_sequence = ['#c82374'])\n",
    "\n",
    "fig_wc = px.bar(countrywise.sort_values('1 week change').tail(top), x = '1 week change', y = 'Country',\n",
    "                text = '1 week change', orientation = 'h', color_discrete_sequence = ['#d32435'])\n",
    "fig_pwc = px.bar(countrywise.sort_values('1 week % increase').tail(top), x = '1 week % increase', y = 'Country',\n",
    "                text = '1 week % increase', orientation = 'h', color_discrete_sequence = ['#a12392'])\n",
    "\n",
    "fig = make_subplots(rows = 5, cols = 2, shared_xaxes = False, horizontal_spacing = 0.2, vertical_spacing = 0.05,\n",
    "                   subplot_titles = ('Top 20 Countries by Confirmed Cases', 'Top 20 Countries by Deaths',\n",
    "                                     'Top 20 Countries by Active Cases',\n",
    "                                     'Top 20 Countries by Recovered', \n",
    "                                     'Deaths per 100 Cases', 'New Cases', 'Cases per Million People', \n",
    "                                    'Confirmed Last Week', '1 Week Change', '1 Week % Change'))\n",
    "\n",
    "fig.add_trace(fig_con['data'][0], row = 1, col = 1)\n",
    "fig.add_trace(fig_dth['data'][0], row = 1, col = 2)\n",
    "fig.add_trace(fig_act['data'][0], row = 2, col = 1)\n",
    "fig.add_trace(fig_rec['data'][0], row = 2, col = 2)\n",
    "fig.add_trace(fig_dthc['data'][0], row = 3, col = 1)\n",
    "fig.add_trace(fig_nc['data'][0], row = 3, col = 2)\n",
    "fig.add_trace(fig_cpm['data'][0], row = 4, col = 1)\n",
    "fig.add_trace(fig_clw['data'][0], row = 4, col = 2)\n",
    "fig.add_trace(fig_wc['data'][0], row = 5, col = 1)\n",
    "fig.add_trace(fig_pwc['data'][0], row = 5, col = 2)\n",
    "fig.update_layout(height = 3000, width = 1000)\n",
    "\n",
    "fig.show()"
   ]
  },
  {
   "cell_type": "markdown",
   "id": "0a562ba7",
   "metadata": {},
   "source": [
    "# Deaths vs Confirmed Cases Scatter Plot"
   ]
  },
  {
   "cell_type": "code",
   "execution_count": null,
   "id": "40fde3f4",
   "metadata": {},
   "outputs": [],
   "source": [
    "#Here we use a scatter plot to highlight the extent of deaths vs the number \n",
    "#of confirmed cases in each country.\n",
    "fig = px.scatter(countrywise.sort_values('Deaths', ascending = False).iloc[:20],\n",
    "                x = 'Confirmed', y = 'Deaths', color = 'Country', size = 'Confirmed', height = 800,\n",
    "                text = 'Country', log_x = True, log_y = True, title = 'Deaths vs Confirmed Cases (Cases are on log10 scale)')\n",
    "\n",
    "fig.update_traces(textposition = 'top center')\n",
    "fig.update_layout(showlegend = True, xaxis_rangeslider_visible = True)"
   ]
  },
  {
   "cell_type": "markdown",
   "id": "faa70073",
   "metadata": {},
   "source": [
    "# Confirmed Cases, Deaths, New Cases vs Country and Date"
   ]
  },
  {
   "cell_type": "code",
   "execution_count": null,
   "id": "8122a4e7",
   "metadata": {},
   "outputs": [],
   "source": [
    "fig = px.bar(country_daywise, x = 'Date', y = 'Confirmed', color = 'Country', height = 600,\n",
    "            title = 'Confirmed Cases', color_discrete_sequence = px.colors.cyclical.mygbm)\n",
    "\n",
    "fig.show()"
   ]
  },
  {
   "cell_type": "code",
   "execution_count": null,
   "id": "7d66d748",
   "metadata": {},
   "outputs": [],
   "source": [
    "fig = px.bar(country_daywise, x = 'Date', y = 'Deaths', color = 'Country', height = 600,\n",
    "            title = 'Deaths', color_discrete_sequence = px.colors.cyclical.mygbm)\n",
    "\n",
    "fig.show()"
   ]
  },
  {
   "cell_type": "code",
   "execution_count": null,
   "id": "31d838f4",
   "metadata": {},
   "outputs": [],
   "source": [
    "fig = px.bar(country_daywise, x = 'Date', y = 'Recovered', color = 'Country', height = 600,\n",
    "            title = 'Recovered Cases', color_discrete_sequence = px.colors.cyclical.mygbm)\n",
    "\n",
    "fig.show()"
   ]
  },
  {
   "cell_type": "markdown",
   "id": "7965a0cd",
   "metadata": {},
   "source": [
    "# Line Plot"
   ]
  },
  {
   "cell_type": "code",
   "execution_count": null,
   "id": "2ae8063d",
   "metadata": {},
   "outputs": [],
   "source": [
    "fig = px.line(country_daywise, x = 'Date', y = 'Confirmed', color = 'Country', height = 600,\n",
    "             title = 'Confirmed Cases', color_discrete_sequence = px.colors.cyclical.mygbm)\n",
    "fig.show()\n",
    "\n",
    "fig = px.line(country_daywise, x = 'Date', y = 'Deaths', color = 'Country', height = 600,\n",
    "             title = 'Deaths', color_discrete_sequence = px.colors.cyclical.mygbm)\n",
    "\n",
    "fig.show()\n",
    "\n",
    "fig = px.line(country_daywise, x = 'Date', y = 'Recovered', color = 'Country', height = 600,\n",
    "             title = 'Recovered Cases', color_discrete_sequence = px.colors.cyclical.mygbm)\n",
    "\n",
    "fig.show()"
   ]
  },
  {
   "cell_type": "markdown",
   "id": "9dcd92e3",
   "metadata": {},
   "source": [
    "# Case Growth Rate After First 100 Cases"
   ]
  },
  {
   "cell_type": "code",
   "execution_count": null,
   "id": "7d6d7824",
   "metadata": {},
   "outputs": [],
   "source": []
  },
  {
   "cell_type": "code",
   "execution_count": null,
   "id": "2f7c389e",
   "metadata": {},
   "outputs": [],
   "source": [
    "cond = country_daywise[country_daywise['Confirmed'] > 100]['Country'].unique()\n",
    "temp = df[df['Country'].isin(cond)]\n",
    "\n",
    "temp = temp.groupby(['Country', 'Date'])['Confirmed'].sum().reset_index()\n",
    "temp = temp[temp['Confirmed'] > 100]\n",
    "\n",
    "min_date = temp.groupby('Country')['Date'].min().reset_index()\n",
    "min_date.columns = ['Country', 'Base Date']\n",
    "\n",
    "from_100th_case = pd.merge(temp, min_date, on = 'Country')\n",
    "from_100th_case['N days'] = (pd.to_datetime(from_100th_case['Date']) - pd.to_datetime(from_100th_case['Base Date'])).dt.days\n",
    "\n",
    "fig = px.line(from_100th_case, x = 'N days', y = 'Confirmed', color = 'Country',\n",
    "             title = 'N Days after 100 Cases', height = 600)\n",
    "\n",
    "fig.show()"
   ]
  },
  {
   "cell_type": "markdown",
   "id": "86db5c01",
   "metadata": {},
   "source": [
    "# Case Growth Rate After First 1000 Cases"
   ]
  },
  {
   "cell_type": "code",
   "execution_count": null,
   "id": "f8411489",
   "metadata": {},
   "outputs": [],
   "source": [
    "cond = country_daywise[country_daywise['Confirmed'] > 100]['Country'].unique()\n",
    "temp = df[df['Country'].isin(cond)]\n",
    "\n",
    "temp = temp.groupby(['Country', 'Date'])['Confirmed'].sum().reset_index()\n",
    "temp = temp[temp['Confirmed'] > 1000]\n",
    "\n",
    "min_date = temp.groupby('Country')['Date'].min().reset_index()\n",
    "min_date.columns = ['Country', 'Base Date']\n",
    "\n",
    "from_1000th_case = pd.merge(temp, min_date, on = 'Country')\n",
    "from_1000th_case['N days'] = (pd.to_datetime(from_1000th_case['Date']) - pd.to_datetime(from_1000th_case['Base Date'])).dt.days\n",
    "\n",
    "fig = px.line(from_1000th_case, x = 'N days', y = 'Confirmed', color = 'Country',\n",
    "             title = 'N Days after 1000 Cases', height = 600)\n",
    "\n",
    "fig.show()"
   ]
  },
  {
   "cell_type": "markdown",
   "id": "2bfa1951",
   "metadata": {},
   "source": [
    "# Growth Rate After 10000 and 100000 Cases"
   ]
  },
  {
   "cell_type": "code",
   "execution_count": null,
   "id": "140416d2",
   "metadata": {},
   "outputs": [],
   "source": [
    "cond = country_daywise[country_daywise['Confirmed'] > 100]['Country'].unique()\n",
    "temp = df[df['Country'].isin(cond)]\n",
    "\n",
    "temp = temp.groupby(['Country', 'Date'])['Confirmed'].sum().reset_index()\n",
    "temp = temp[temp['Confirmed'] > 10000]\n",
    "\n",
    "min_date = temp.groupby('Country')['Date'].min().reset_index()\n",
    "min_date.columns = ['Country', 'Base Date']\n",
    "\n",
    "from_10000th_case = pd.merge(temp, min_date, on = 'Country')\n",
    "from_10000th_case['N days'] = (pd.to_datetime(from_10000th_case['Date']) - pd.to_datetime(from_10000th_case['Base Date'])).dt.days\n",
    "\n",
    "fig = px.line(from_10000th_case, x = 'N days', y = 'Confirmed', color = 'Country',\n",
    "             title = 'N Days after 10000 Cases', height = 600)\n",
    "\n",
    "fig.show()\n",
    "\n",
    "\n",
    "cond = country_daywise[country_daywise['Confirmed'] > 100]['Country'].unique()\n",
    "temp = df[df['Country'].isin(cond)]\n",
    "\n",
    "temp = temp.groupby(['Country', 'Date'])['Confirmed'].sum().reset_index()\n",
    "temp = temp[temp['Confirmed'] > 100000]\n",
    "\n",
    "min_date = temp.groupby('Country')['Date'].min().reset_index()\n",
    "min_date.columns = ['Country', 'Base Date']\n",
    "\n",
    "from_100000th_case = pd.merge(temp, min_date, on = 'Country')\n",
    "from_100000th_case['N days'] = (pd.to_datetime(from_100000th_case['Date']) - pd.to_datetime(from_100000th_case['Base Date'])).dt.days\n",
    "\n",
    "fig = px.line(from_100000th_case, x = 'N days', y = 'Confirmed', color = 'Country',\n",
    "             title = 'N Days after 100000 Cases', height = 600)\n",
    "\n",
    "fig.show()"
   ]
  },
  {
   "cell_type": "markdown",
   "id": "bfd914c5",
   "metadata": {},
   "source": []
  },
  {
   "cell_type": "code",
   "execution_count": null,
   "id": "261f11d7",
   "metadata": {},
   "outputs": [],
   "source": []
  },
  {
   "cell_type": "code",
   "execution_count": null,
   "id": "aa918e7a",
   "metadata": {},
   "outputs": [],
   "source": []
  },
  {
   "cell_type": "code",
   "execution_count": null,
   "id": "f86c03f0",
   "metadata": {},
   "outputs": [],
   "source": []
  },
  {
   "cell_type": "code",
   "execution_count": null,
   "id": "7ddee306",
   "metadata": {},
   "outputs": [],
   "source": []
  },
  {
   "cell_type": "code",
   "execution_count": null,
   "id": "e3debb15",
   "metadata": {},
   "outputs": [],
   "source": []
  },
  {
   "cell_type": "code",
   "execution_count": null,
   "id": "a083eaef",
   "metadata": {},
   "outputs": [],
   "source": []
  },
  {
   "cell_type": "code",
   "execution_count": null,
   "id": "3a6b97ae",
   "metadata": {},
   "outputs": [],
   "source": []
  },
  {
   "cell_type": "code",
   "execution_count": null,
   "id": "b194dae2",
   "metadata": {},
   "outputs": [],
   "source": []
  },
  {
   "cell_type": "code",
   "execution_count": null,
   "id": "18fbc462",
   "metadata": {},
   "outputs": [],
   "source": []
  },
  {
   "cell_type": "code",
   "execution_count": null,
   "id": "0af6cefc",
   "metadata": {},
   "outputs": [],
   "source": []
  }
 ],
 "metadata": {
  "kernelspec": {
   "display_name": "Python 3 (ipykernel)",
   "language": "python",
   "name": "python3"
  },
  "language_info": {
   "codemirror_mode": {
    "name": "ipython",
    "version": 3
   },
   "file_extension": ".py",
   "mimetype": "text/x-python",
   "name": "python",
   "nbconvert_exporter": "python",
   "pygments_lexer": "ipython3",
   "version": "3.10.0"
  }
 },
 "nbformat": 4,
 "nbformat_minor": 5
}
